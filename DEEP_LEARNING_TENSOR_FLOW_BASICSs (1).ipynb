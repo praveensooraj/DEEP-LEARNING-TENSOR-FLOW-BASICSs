{
  "nbformat": 4,
  "nbformat_minor": 0,
  "metadata": {
    "colab": {
      "provenance": []
    },
    "kernelspec": {
      "name": "python3",
      "display_name": "Python 3"
    },
    "language_info": {
      "name": "python"
    }
  },
  "cells": [
    {
      "cell_type": "code",
      "source": [
        "#normal helloworld printing\n",
        "msg=tf.constant('my name is sooraj')\n",
        "tf.print(msg)"
      ],
      "metadata": {
        "colab": {
          "base_uri": "https://localhost:8080/"
        },
        "id": "bQ-KEVbdFUfT",
        "outputId": "44f77a7b-df0d-40b2-e348-5e39b4129ede"
      },
      "execution_count": null,
      "outputs": [
        {
          "output_type": "stream",
          "name": "stdout",
          "text": [
            "my name is sooraj\n"
          ]
        }
      ]
    },
    {
      "cell_type": "code",
      "execution_count": null,
      "metadata": {
        "colab": {
          "base_uri": "https://localhost:8080/"
        },
        "id": "1CXsYMnVFNf-",
        "outputId": "c88cfbf8-3fae-4aab-83c2-0118edebcbba"
      },
      "outputs": [
        {
          "output_type": "stream",
          "name": "stdout",
          "text": [
            "ADDITION: 22\n",
            "SUBTRACTION: 2\n",
            "MULTIPLICATION: 120\n",
            "DIVISION: 1.2\n"
          ]
        }
      ],
      "source": [
        "#finding addition,subtraction,multiplication,division using tensor flow\n",
        "import tensorflow as tf\n",
        "a=tf.constant(12)\n",
        "b=tf.constant(10)\n",
        "c=tf.add(a,b)\n",
        "d=tf.subtract(a,b)\n",
        "e=tf.multiply(a,b)\n",
        "f=tf.divide(a,b)\n",
        "tf.print('ADDITION:',c)\n",
        "tf.print('SUBTRACTION:',d)\n",
        "tf.print('MULTIPLICATION:',e)\n",
        "tf.print('DIVISION:',f)\n"
      ]
    },
    {
      "cell_type": "code",
      "source": [
        "#finding greatest of three numbers using tensor flow\n",
        "a=tf.constant(10)\n",
        "b=tf.constant(15)\n",
        "c=tf.constant(20)\n",
        "if(a>b and a>c):\n",
        "  tf.print('A is greater')\n",
        "if(b<a and b<c):\n",
        "  tf.print('B is greater')\n",
        "else:\n",
        "  tf.print('c is greater')"
      ],
      "metadata": {
        "colab": {
          "base_uri": "https://localhost:8080/"
        },
        "id": "_1yPcz8UG7xV",
        "outputId": "64bdfd53-94cb-44e5-f782-88964d6ab283"
      },
      "execution_count": null,
      "outputs": [
        {
          "output_type": "stream",
          "name": "stdout",
          "text": [
            "c is greater\n"
          ]
        }
      ]
    },
    {
      "cell_type": "code",
      "source": [
        "#finding odd or even using tensor flow\n",
        "a=tf.constant(20)\n",
        "if(a%2==0):\n",
        "  tf.print('A is odd')\n",
        "else:\n",
        "  tf.print('A is even')"
      ],
      "metadata": {
        "colab": {
          "base_uri": "https://localhost:8080/"
        },
        "id": "ZjqgwD99xZLB",
        "outputId": "e93fcdc6-dec5-480b-a79a-4bda7b074406"
      },
      "execution_count": null,
      "outputs": [
        {
          "output_type": "stream",
          "name": "stdout",
          "text": [
            "A is odd\n"
          ]
        }
      ]
    },
    {
      "cell_type": "code",
      "source": [
        "#factorial using tensorflow\n",
        "a=tf.constant(10)\n",
        "i=1\n",
        "fact=1\n",
        "for i in range(i,a+1):\n",
        "  fact=fact*i\n",
        "tf.print('FACTORIAL IS:',fact)"
      ],
      "metadata": {
        "colab": {
          "base_uri": "https://localhost:8080/"
        },
        "id": "hDm21INSyV7E",
        "outputId": "f0e24efe-851e-49d9-f662-e26694146200"
      },
      "execution_count": null,
      "outputs": [
        {
          "output_type": "stream",
          "name": "stdout",
          "text": [
            "FACTORIAL IS: 3628800\n"
          ]
        }
      ]
    },
    {
      "cell_type": "code",
      "source": [
        "#fabinocci using tensor flow\n",
        "def fib(n):\n",
        "  a=0\n",
        "  b=1\n",
        "  tf.print(a)\n",
        "  tf.print(b)\n",
        "  for i in range(2,n):\n",
        "    c=a+b\n",
        "    a=b\n",
        "    b=c\n",
        "    tf.print(c)\n",
        "fib(10)"
      ],
      "metadata": {
        "colab": {
          "base_uri": "https://localhost:8080/"
        },
        "id": "lEK-RTc6z4Ek",
        "outputId": "9dd3aaa5-c31e-4f22-d962-de70d99339dd"
      },
      "execution_count": null,
      "outputs": [
        {
          "output_type": "stream",
          "name": "stdout",
          "text": [
            "0\n",
            "1\n",
            "1\n",
            "2\n",
            "3\n",
            "5\n",
            "8\n",
            "13\n",
            "21\n",
            "34\n"
          ]
        }
      ]
    },
    {
      "cell_type": "code",
      "source": [],
      "metadata": {
        "id": "lb5sy0QD0kzM"
      },
      "execution_count": null,
      "outputs": []
    }
  ]
}